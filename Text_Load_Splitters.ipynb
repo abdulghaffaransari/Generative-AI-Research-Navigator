{
 "cells": [
  {
   "cell_type": "markdown",
   "metadata": {},
   "source": [
    "# Document Loaders In LangChain"
   ]
  },
  {
   "cell_type": "code",
   "execution_count": 25,
   "metadata": {},
   "outputs": [
    {
     "name": "stdout",
     "output_type": "stream",
     "text": [
      "Requirement already satisfied: langchain in c:\\users\\ansar\\anaconda3\\envs\\research\\lib\\site-packages (0.3.13)\n",
      "Requirement already satisfied: PyYAML>=5.3 in c:\\users\\ansar\\anaconda3\\envs\\research\\lib\\site-packages (from langchain) (6.0.2)\n",
      "Requirement already satisfied: SQLAlchemy<3,>=1.4 in c:\\users\\ansar\\anaconda3\\envs\\research\\lib\\site-packages (from langchain) (2.0.36)\n",
      "Requirement already satisfied: aiohttp<4.0.0,>=3.8.3 in c:\\users\\ansar\\anaconda3\\envs\\research\\lib\\site-packages (from langchain) (3.11.11)\n",
      "Requirement already satisfied: async-timeout<5.0.0,>=4.0.0 in c:\\users\\ansar\\anaconda3\\envs\\research\\lib\\site-packages (from langchain) (4.0.3)\n",
      "Requirement already satisfied: langchain-core<0.4.0,>=0.3.26 in c:\\users\\ansar\\anaconda3\\envs\\research\\lib\\site-packages (from langchain) (0.3.28)\n",
      "Requirement already satisfied: langchain-text-splitters<0.4.0,>=0.3.3 in c:\\users\\ansar\\anaconda3\\envs\\research\\lib\\site-packages (from langchain) (0.3.4)\n",
      "Requirement already satisfied: langsmith<0.3,>=0.1.17 in c:\\users\\ansar\\anaconda3\\envs\\research\\lib\\site-packages (from langchain) (0.2.4)\n",
      "Requirement already satisfied: numpy<2,>=1.22.4 in c:\\users\\ansar\\anaconda3\\envs\\research\\lib\\site-packages (from langchain) (1.26.4)\n",
      "Requirement already satisfied: pydantic<3.0.0,>=2.7.4 in c:\\users\\ansar\\anaconda3\\envs\\research\\lib\\site-packages (from langchain) (2.9.2)\n",
      "Requirement already satisfied: requests<3,>=2 in c:\\users\\ansar\\anaconda3\\envs\\research\\lib\\site-packages (from langchain) (2.32.3)\n",
      "Requirement already satisfied: tenacity!=8.4.0,<10,>=8.1.0 in c:\\users\\ansar\\anaconda3\\envs\\research\\lib\\site-packages (from langchain) (9.0.0)\n",
      "Requirement already satisfied: aiohappyeyeballs>=2.3.0 in c:\\users\\ansar\\anaconda3\\envs\\research\\lib\\site-packages (from aiohttp<4.0.0,>=3.8.3->langchain) (2.4.4)\n",
      "Requirement already satisfied: aiosignal>=1.1.2 in c:\\users\\ansar\\anaconda3\\envs\\research\\lib\\site-packages (from aiohttp<4.0.0,>=3.8.3->langchain) (1.3.2)\n",
      "Requirement already satisfied: attrs>=17.3.0 in c:\\users\\ansar\\anaconda3\\envs\\research\\lib\\site-packages (from aiohttp<4.0.0,>=3.8.3->langchain) (24.3.0)\n",
      "Requirement already satisfied: frozenlist>=1.1.1 in c:\\users\\ansar\\anaconda3\\envs\\research\\lib\\site-packages (from aiohttp<4.0.0,>=3.8.3->langchain) (1.5.0)\n",
      "Requirement already satisfied: multidict<7.0,>=4.5 in c:\\users\\ansar\\anaconda3\\envs\\research\\lib\\site-packages (from aiohttp<4.0.0,>=3.8.3->langchain) (6.1.0)\n",
      "Requirement already satisfied: propcache>=0.2.0 in c:\\users\\ansar\\anaconda3\\envs\\research\\lib\\site-packages (from aiohttp<4.0.0,>=3.8.3->langchain) (0.2.1)\n",
      "Requirement already satisfied: yarl<2.0,>=1.17.0 in c:\\users\\ansar\\anaconda3\\envs\\research\\lib\\site-packages (from aiohttp<4.0.0,>=3.8.3->langchain) (1.18.3)\n",
      "Requirement already satisfied: jsonpatch<2.0,>=1.33 in c:\\users\\ansar\\anaconda3\\envs\\research\\lib\\site-packages (from langchain-core<0.4.0,>=0.3.26->langchain) (1.33)\n",
      "Requirement already satisfied: packaging<25,>=23.2 in c:\\users\\ansar\\anaconda3\\envs\\research\\lib\\site-packages (from langchain-core<0.4.0,>=0.3.26->langchain) (24.2)\n",
      "Requirement already satisfied: typing-extensions>=4.7 in c:\\users\\ansar\\anaconda3\\envs\\research\\lib\\site-packages (from langchain-core<0.4.0,>=0.3.26->langchain) (4.12.2)\n",
      "Requirement already satisfied: httpx<1,>=0.23.0 in c:\\users\\ansar\\anaconda3\\envs\\research\\lib\\site-packages (from langsmith<0.3,>=0.1.17->langchain) (0.28.1)\n",
      "Requirement already satisfied: orjson<4.0.0,>=3.9.14 in c:\\users\\ansar\\anaconda3\\envs\\research\\lib\\site-packages (from langsmith<0.3,>=0.1.17->langchain) (3.10.12)\n",
      "Requirement already satisfied: requests-toolbelt<2.0.0,>=1.0.0 in c:\\users\\ansar\\anaconda3\\envs\\research\\lib\\site-packages (from langsmith<0.3,>=0.1.17->langchain) (1.0.0)\n",
      "Requirement already satisfied: annotated-types>=0.6.0 in c:\\users\\ansar\\anaconda3\\envs\\research\\lib\\site-packages (from pydantic<3.0.0,>=2.7.4->langchain) (0.7.0)\n",
      "Requirement already satisfied: pydantic-core==2.23.4 in c:\\users\\ansar\\anaconda3\\envs\\research\\lib\\site-packages (from pydantic<3.0.0,>=2.7.4->langchain) (2.23.4)\n",
      "Requirement already satisfied: charset-normalizer<4,>=2 in c:\\users\\ansar\\anaconda3\\envs\\research\\lib\\site-packages (from requests<3,>=2->langchain) (3.4.0)\n",
      "Requirement already satisfied: idna<4,>=2.5 in c:\\users\\ansar\\anaconda3\\envs\\research\\lib\\site-packages (from requests<3,>=2->langchain) (3.10)\n",
      "Requirement already satisfied: urllib3<3,>=1.21.1 in c:\\users\\ansar\\anaconda3\\envs\\research\\lib\\site-packages (from requests<3,>=2->langchain) (2.2.3)\n",
      "Requirement already satisfied: certifi>=2017.4.17 in c:\\users\\ansar\\anaconda3\\envs\\research\\lib\\site-packages (from requests<3,>=2->langchain) (2024.12.14)\n",
      "Requirement already satisfied: greenlet!=0.4.17 in c:\\users\\ansar\\anaconda3\\envs\\research\\lib\\site-packages (from SQLAlchemy<3,>=1.4->langchain) (3.1.1)\n",
      "Requirement already satisfied: anyio in c:\\users\\ansar\\anaconda3\\envs\\research\\lib\\site-packages (from httpx<1,>=0.23.0->langsmith<0.3,>=0.1.17->langchain) (4.7.0)\n",
      "Requirement already satisfied: httpcore==1.* in c:\\users\\ansar\\anaconda3\\envs\\research\\lib\\site-packages (from httpx<1,>=0.23.0->langsmith<0.3,>=0.1.17->langchain) (1.0.7)\n",
      "Requirement already satisfied: h11<0.15,>=0.13 in c:\\users\\ansar\\anaconda3\\envs\\research\\lib\\site-packages (from httpcore==1.*->httpx<1,>=0.23.0->langsmith<0.3,>=0.1.17->langchain) (0.14.0)\n",
      "Requirement already satisfied: jsonpointer>=1.9 in c:\\users\\ansar\\anaconda3\\envs\\research\\lib\\site-packages (from jsonpatch<2.0,>=1.33->langchain-core<0.4.0,>=0.3.26->langchain) (3.0.0)\n",
      "Requirement already satisfied: exceptiongroup>=1.0.2 in c:\\users\\ansar\\anaconda3\\envs\\research\\lib\\site-packages (from anyio->httpx<1,>=0.23.0->langsmith<0.3,>=0.1.17->langchain) (1.2.2)\n",
      "Requirement already satisfied: sniffio>=1.1 in c:\\users\\ansar\\anaconda3\\envs\\research\\lib\\site-packages (from anyio->httpx<1,>=0.23.0->langsmith<0.3,>=0.1.17->langchain) (1.3.1)\n",
      "Requirement already satisfied: langchain-community in c:\\users\\ansar\\anaconda3\\envs\\research\\lib\\site-packages (0.3.13)\n",
      "Requirement already satisfied: PyYAML>=5.3 in c:\\users\\ansar\\anaconda3\\envs\\research\\lib\\site-packages (from langchain-community) (6.0.2)\n",
      "Requirement already satisfied: SQLAlchemy<3,>=1.4 in c:\\users\\ansar\\anaconda3\\envs\\research\\lib\\site-packages (from langchain-community) (2.0.36)\n",
      "Requirement already satisfied: aiohttp<4.0.0,>=3.8.3 in c:\\users\\ansar\\anaconda3\\envs\\research\\lib\\site-packages (from langchain-community) (3.11.11)\n",
      "Requirement already satisfied: dataclasses-json<0.7,>=0.5.7 in c:\\users\\ansar\\anaconda3\\envs\\research\\lib\\site-packages (from langchain-community) (0.6.7)\n",
      "Requirement already satisfied: httpx-sse<0.5.0,>=0.4.0 in c:\\users\\ansar\\anaconda3\\envs\\research\\lib\\site-packages (from langchain-community) (0.4.0)\n",
      "Requirement already satisfied: langchain<0.4.0,>=0.3.13 in c:\\users\\ansar\\anaconda3\\envs\\research\\lib\\site-packages (from langchain-community) (0.3.13)\n",
      "Requirement already satisfied: langchain-core<0.4.0,>=0.3.27 in c:\\users\\ansar\\anaconda3\\envs\\research\\lib\\site-packages (from langchain-community) (0.3.28)\n",
      "Requirement already satisfied: langsmith<0.3,>=0.1.125 in c:\\users\\ansar\\anaconda3\\envs\\research\\lib\\site-packages (from langchain-community) (0.2.4)\n",
      "Requirement already satisfied: numpy<2,>=1.22.4 in c:\\users\\ansar\\anaconda3\\envs\\research\\lib\\site-packages (from langchain-community) (1.26.4)\n",
      "Requirement already satisfied: pydantic-settings<3.0.0,>=2.4.0 in c:\\users\\ansar\\anaconda3\\envs\\research\\lib\\site-packages (from langchain-community) (2.7.0)\n",
      "Requirement already satisfied: requests<3,>=2 in c:\\users\\ansar\\anaconda3\\envs\\research\\lib\\site-packages (from langchain-community) (2.32.3)\n",
      "Requirement already satisfied: tenacity!=8.4.0,<10,>=8.1.0 in c:\\users\\ansar\\anaconda3\\envs\\research\\lib\\site-packages (from langchain-community) (9.0.0)\n",
      "Requirement already satisfied: aiohappyeyeballs>=2.3.0 in c:\\users\\ansar\\anaconda3\\envs\\research\\lib\\site-packages (from aiohttp<4.0.0,>=3.8.3->langchain-community) (2.4.4)\n",
      "Requirement already satisfied: aiosignal>=1.1.2 in c:\\users\\ansar\\anaconda3\\envs\\research\\lib\\site-packages (from aiohttp<4.0.0,>=3.8.3->langchain-community) (1.3.2)\n",
      "Requirement already satisfied: async-timeout<6.0,>=4.0 in c:\\users\\ansar\\anaconda3\\envs\\research\\lib\\site-packages (from aiohttp<4.0.0,>=3.8.3->langchain-community) (4.0.3)\n",
      "Requirement already satisfied: attrs>=17.3.0 in c:\\users\\ansar\\anaconda3\\envs\\research\\lib\\site-packages (from aiohttp<4.0.0,>=3.8.3->langchain-community) (24.3.0)\n",
      "Requirement already satisfied: frozenlist>=1.1.1 in c:\\users\\ansar\\anaconda3\\envs\\research\\lib\\site-packages (from aiohttp<4.0.0,>=3.8.3->langchain-community) (1.5.0)\n",
      "Requirement already satisfied: multidict<7.0,>=4.5 in c:\\users\\ansar\\anaconda3\\envs\\research\\lib\\site-packages (from aiohttp<4.0.0,>=3.8.3->langchain-community) (6.1.0)\n",
      "Requirement already satisfied: propcache>=0.2.0 in c:\\users\\ansar\\anaconda3\\envs\\research\\lib\\site-packages (from aiohttp<4.0.0,>=3.8.3->langchain-community) (0.2.1)\n",
      "Requirement already satisfied: yarl<2.0,>=1.17.0 in c:\\users\\ansar\\anaconda3\\envs\\research\\lib\\site-packages (from aiohttp<4.0.0,>=3.8.3->langchain-community) (1.18.3)\n",
      "Requirement already satisfied: marshmallow<4.0.0,>=3.18.0 in c:\\users\\ansar\\anaconda3\\envs\\research\\lib\\site-packages (from dataclasses-json<0.7,>=0.5.7->langchain-community) (3.23.2)\n",
      "Requirement already satisfied: typing-inspect<1,>=0.4.0 in c:\\users\\ansar\\anaconda3\\envs\\research\\lib\\site-packages (from dataclasses-json<0.7,>=0.5.7->langchain-community) (0.9.0)\n",
      "Requirement already satisfied: langchain-text-splitters<0.4.0,>=0.3.3 in c:\\users\\ansar\\anaconda3\\envs\\research\\lib\\site-packages (from langchain<0.4.0,>=0.3.13->langchain-community) (0.3.4)\n",
      "Requirement already satisfied: pydantic<3.0.0,>=2.7.4 in c:\\users\\ansar\\anaconda3\\envs\\research\\lib\\site-packages (from langchain<0.4.0,>=0.3.13->langchain-community) (2.9.2)\n",
      "Requirement already satisfied: jsonpatch<2.0,>=1.33 in c:\\users\\ansar\\anaconda3\\envs\\research\\lib\\site-packages (from langchain-core<0.4.0,>=0.3.27->langchain-community) (1.33)\n",
      "Requirement already satisfied: packaging<25,>=23.2 in c:\\users\\ansar\\anaconda3\\envs\\research\\lib\\site-packages (from langchain-core<0.4.0,>=0.3.27->langchain-community) (24.2)\n",
      "Requirement already satisfied: typing-extensions>=4.7 in c:\\users\\ansar\\anaconda3\\envs\\research\\lib\\site-packages (from langchain-core<0.4.0,>=0.3.27->langchain-community) (4.12.2)\n",
      "Requirement already satisfied: httpx<1,>=0.23.0 in c:\\users\\ansar\\anaconda3\\envs\\research\\lib\\site-packages (from langsmith<0.3,>=0.1.125->langchain-community) (0.28.1)\n",
      "Requirement already satisfied: orjson<4.0.0,>=3.9.14 in c:\\users\\ansar\\anaconda3\\envs\\research\\lib\\site-packages (from langsmith<0.3,>=0.1.125->langchain-community) (3.10.12)\n",
      "Requirement already satisfied: requests-toolbelt<2.0.0,>=1.0.0 in c:\\users\\ansar\\anaconda3\\envs\\research\\lib\\site-packages (from langsmith<0.3,>=0.1.125->langchain-community) (1.0.0)\n",
      "Requirement already satisfied: python-dotenv>=0.21.0 in c:\\users\\ansar\\anaconda3\\envs\\research\\lib\\site-packages (from pydantic-settings<3.0.0,>=2.4.0->langchain-community) (1.0.1)\n",
      "Requirement already satisfied: charset-normalizer<4,>=2 in c:\\users\\ansar\\anaconda3\\envs\\research\\lib\\site-packages (from requests<3,>=2->langchain-community) (3.4.0)\n",
      "Requirement already satisfied: idna<4,>=2.5 in c:\\users\\ansar\\anaconda3\\envs\\research\\lib\\site-packages (from requests<3,>=2->langchain-community) (3.10)\n",
      "Requirement already satisfied: urllib3<3,>=1.21.1 in c:\\users\\ansar\\anaconda3\\envs\\research\\lib\\site-packages (from requests<3,>=2->langchain-community) (2.2.3)\n",
      "Requirement already satisfied: certifi>=2017.4.17 in c:\\users\\ansar\\anaconda3\\envs\\research\\lib\\site-packages (from requests<3,>=2->langchain-community) (2024.12.14)\n",
      "Requirement already satisfied: greenlet!=0.4.17 in c:\\users\\ansar\\anaconda3\\envs\\research\\lib\\site-packages (from SQLAlchemy<3,>=1.4->langchain-community) (3.1.1)\n",
      "Requirement already satisfied: anyio in c:\\users\\ansar\\anaconda3\\envs\\research\\lib\\site-packages (from httpx<1,>=0.23.0->langsmith<0.3,>=0.1.125->langchain-community) (4.7.0)\n",
      "Requirement already satisfied: httpcore==1.* in c:\\users\\ansar\\anaconda3\\envs\\research\\lib\\site-packages (from httpx<1,>=0.23.0->langsmith<0.3,>=0.1.125->langchain-community) (1.0.7)\n",
      "Requirement already satisfied: h11<0.15,>=0.13 in c:\\users\\ansar\\anaconda3\\envs\\research\\lib\\site-packages (from httpcore==1.*->httpx<1,>=0.23.0->langsmith<0.3,>=0.1.125->langchain-community) (0.14.0)\n",
      "Requirement already satisfied: jsonpointer>=1.9 in c:\\users\\ansar\\anaconda3\\envs\\research\\lib\\site-packages (from jsonpatch<2.0,>=1.33->langchain-core<0.4.0,>=0.3.27->langchain-community) (3.0.0)\n",
      "Requirement already satisfied: annotated-types>=0.6.0 in c:\\users\\ansar\\anaconda3\\envs\\research\\lib\\site-packages (from pydantic<3.0.0,>=2.7.4->langchain<0.4.0,>=0.3.13->langchain-community) (0.7.0)\n",
      "Requirement already satisfied: pydantic-core==2.23.4 in c:\\users\\ansar\\anaconda3\\envs\\research\\lib\\site-packages (from pydantic<3.0.0,>=2.7.4->langchain<0.4.0,>=0.3.13->langchain-community) (2.23.4)\n",
      "Requirement already satisfied: mypy-extensions>=0.3.0 in c:\\users\\ansar\\anaconda3\\envs\\research\\lib\\site-packages (from typing-inspect<1,>=0.4.0->dataclasses-json<0.7,>=0.5.7->langchain-community) (1.0.0)\n",
      "Requirement already satisfied: exceptiongroup>=1.0.2 in c:\\users\\ansar\\anaconda3\\envs\\research\\lib\\site-packages (from anyio->httpx<1,>=0.23.0->langsmith<0.3,>=0.1.125->langchain-community) (1.2.2)\n",
      "Requirement already satisfied: sniffio>=1.1 in c:\\users\\ansar\\anaconda3\\envs\\research\\lib\\site-packages (from anyio->httpx<1,>=0.23.0->langsmith<0.3,>=0.1.125->langchain-community) (1.3.1)\n",
      "Requirement already satisfied: langchain in c:\\users\\ansar\\anaconda3\\envs\\research\\lib\\site-packages (from -r requirements.txt (line 1)) (0.3.13)\n",
      "Requirement already satisfied: python-dotenv in c:\\users\\ansar\\anaconda3\\envs\\research\\lib\\site-packages (from -r requirements.txt (line 2)) (1.0.1)\n",
      "Collecting streamlit (from -r requirements.txt (line 3))\n",
      "  Using cached streamlit-1.41.1-py2.py3-none-any.whl.metadata (8.5 kB)\n",
      "Requirement already satisfied: unstructured in c:\\users\\ansar\\anaconda3\\envs\\research\\lib\\site-packages (from -r requirements.txt (line 4)) (0.16.11)\n",
      "Collecting tiktoken (from -r requirements.txt (line 5))\n",
      "  Downloading tiktoken-0.8.0-cp310-cp310-win_amd64.whl.metadata (6.8 kB)\n",
      "Collecting faiss-cpu (from -r requirements.txt (line 6))\n",
      "  Downloading faiss_cpu-1.9.0.post1-cp310-cp310-win_amd64.whl.metadata (4.5 kB)\n",
      "Requirement already satisfied: libmagic in c:\\users\\ansar\\anaconda3\\envs\\research\\lib\\site-packages (from -r requirements.txt (line 7)) (1.0)\n",
      "Requirement already satisfied: python-magic in c:\\users\\ansar\\anaconda3\\envs\\research\\lib\\site-packages (from -r requirements.txt (line 8)) (0.4.27)\n",
      "Requirement already satisfied: python-magic-bin in c:\\users\\ansar\\anaconda3\\envs\\research\\lib\\site-packages (from -r requirements.txt (line 9)) (0.4.14)\n",
      "Collecting OpenAI (from -r requirements.txt (line 10))\n",
      "  Using cached openai-1.58.1-py3-none-any.whl.metadata (27 kB)\n",
      "Requirement already satisfied: PyYAML>=5.3 in c:\\users\\ansar\\anaconda3\\envs\\research\\lib\\site-packages (from langchain->-r requirements.txt (line 1)) (6.0.2)\n",
      "Requirement already satisfied: SQLAlchemy<3,>=1.4 in c:\\users\\ansar\\anaconda3\\envs\\research\\lib\\site-packages (from langchain->-r requirements.txt (line 1)) (2.0.36)\n",
      "Requirement already satisfied: aiohttp<4.0.0,>=3.8.3 in c:\\users\\ansar\\anaconda3\\envs\\research\\lib\\site-packages (from langchain->-r requirements.txt (line 1)) (3.11.11)\n",
      "Requirement already satisfied: async-timeout<5.0.0,>=4.0.0 in c:\\users\\ansar\\anaconda3\\envs\\research\\lib\\site-packages (from langchain->-r requirements.txt (line 1)) (4.0.3)\n",
      "Requirement already satisfied: langchain-core<0.4.0,>=0.3.26 in c:\\users\\ansar\\anaconda3\\envs\\research\\lib\\site-packages (from langchain->-r requirements.txt (line 1)) (0.3.28)\n",
      "Requirement already satisfied: langchain-text-splitters<0.4.0,>=0.3.3 in c:\\users\\ansar\\anaconda3\\envs\\research\\lib\\site-packages (from langchain->-r requirements.txt (line 1)) (0.3.4)\n",
      "Requirement already satisfied: langsmith<0.3,>=0.1.17 in c:\\users\\ansar\\anaconda3\\envs\\research\\lib\\site-packages (from langchain->-r requirements.txt (line 1)) (0.2.4)\n",
      "Requirement already satisfied: numpy<2,>=1.22.4 in c:\\users\\ansar\\anaconda3\\envs\\research\\lib\\site-packages (from langchain->-r requirements.txt (line 1)) (1.26.4)\n",
      "Requirement already satisfied: pydantic<3.0.0,>=2.7.4 in c:\\users\\ansar\\anaconda3\\envs\\research\\lib\\site-packages (from langchain->-r requirements.txt (line 1)) (2.9.2)\n",
      "Requirement already satisfied: requests<3,>=2 in c:\\users\\ansar\\anaconda3\\envs\\research\\lib\\site-packages (from langchain->-r requirements.txt (line 1)) (2.32.3)\n",
      "Requirement already satisfied: tenacity!=8.4.0,<10,>=8.1.0 in c:\\users\\ansar\\anaconda3\\envs\\research\\lib\\site-packages (from langchain->-r requirements.txt (line 1)) (9.0.0)\n",
      "Collecting altair<6,>=4.0 (from streamlit->-r requirements.txt (line 3))\n",
      "  Downloading altair-5.5.0-py3-none-any.whl.metadata (11 kB)\n",
      "Collecting blinker<2,>=1.0.0 (from streamlit->-r requirements.txt (line 3))\n",
      "  Downloading blinker-1.9.0-py3-none-any.whl.metadata (1.6 kB)\n",
      "Collecting cachetools<6,>=4.0 (from streamlit->-r requirements.txt (line 3))\n",
      "  Using cached cachetools-5.5.0-py3-none-any.whl.metadata (5.3 kB)\n",
      "Requirement already satisfied: click<9,>=7.0 in c:\\users\\ansar\\anaconda3\\envs\\research\\lib\\site-packages (from streamlit->-r requirements.txt (line 3)) (8.1.7)\n",
      "Requirement already satisfied: packaging<25,>=20 in c:\\users\\ansar\\anaconda3\\envs\\research\\lib\\site-packages (from streamlit->-r requirements.txt (line 3)) (24.2)\n",
      "Collecting pandas<3,>=1.4.0 (from streamlit->-r requirements.txt (line 3))\n",
      "  Downloading pandas-2.2.3-cp310-cp310-win_amd64.whl.metadata (19 kB)\n",
      "Collecting pillow<12,>=7.1.0 (from streamlit->-r requirements.txt (line 3))\n",
      "  Downloading pillow-11.0.0-cp310-cp310-win_amd64.whl.metadata (9.3 kB)\n",
      "Collecting protobuf<6,>=3.20 (from streamlit->-r requirements.txt (line 3))\n",
      "  Downloading protobuf-5.29.2-cp310-abi3-win_amd64.whl.metadata (592 bytes)\n",
      "Collecting pyarrow>=7.0 (from streamlit->-r requirements.txt (line 3))\n",
      "  Downloading pyarrow-18.1.0-cp310-cp310-win_amd64.whl.metadata (3.4 kB)\n",
      "Collecting rich<14,>=10.14.0 (from streamlit->-r requirements.txt (line 3))\n",
      "  Using cached rich-13.9.4-py3-none-any.whl.metadata (18 kB)\n",
      "Collecting toml<2,>=0.10.1 (from streamlit->-r requirements.txt (line 3))\n",
      "  Using cached toml-0.10.2-py2.py3-none-any.whl.metadata (7.1 kB)\n",
      "Requirement already satisfied: typing-extensions<5,>=4.3.0 in c:\\users\\ansar\\anaconda3\\envs\\research\\lib\\site-packages (from streamlit->-r requirements.txt (line 3)) (4.12.2)\n",
      "Collecting watchdog<7,>=2.1.5 (from streamlit->-r requirements.txt (line 3))\n",
      "  Downloading watchdog-6.0.0-py3-none-win_amd64.whl.metadata (44 kB)\n",
      "Collecting gitpython!=3.1.19,<4,>=3.0.7 (from streamlit->-r requirements.txt (line 3))\n",
      "  Using cached GitPython-3.1.43-py3-none-any.whl.metadata (13 kB)\n",
      "Collecting pydeck<1,>=0.8.0b4 (from streamlit->-r requirements.txt (line 3))\n",
      "  Using cached pydeck-0.9.1-py2.py3-none-any.whl.metadata (4.1 kB)\n",
      "Requirement already satisfied: tornado<7,>=6.0.3 in c:\\users\\ansar\\anaconda3\\envs\\research\\lib\\site-packages (from streamlit->-r requirements.txt (line 3)) (6.4.2)\n",
      "Requirement already satisfied: chardet in c:\\users\\ansar\\anaconda3\\envs\\research\\lib\\site-packages (from unstructured->-r requirements.txt (line 4)) (5.2.0)\n",
      "Requirement already satisfied: filetype in c:\\users\\ansar\\anaconda3\\envs\\research\\lib\\site-packages (from unstructured->-r requirements.txt (line 4)) (1.2.0)\n",
      "Requirement already satisfied: lxml in c:\\users\\ansar\\anaconda3\\envs\\research\\lib\\site-packages (from unstructured->-r requirements.txt (line 4)) (5.3.0)\n",
      "Requirement already satisfied: nltk in c:\\users\\ansar\\anaconda3\\envs\\research\\lib\\site-packages (from unstructured->-r requirements.txt (line 4)) (3.9.1)\n",
      "Requirement already satisfied: beautifulsoup4 in c:\\users\\ansar\\anaconda3\\envs\\research\\lib\\site-packages (from unstructured->-r requirements.txt (line 4)) (4.12.3)\n",
      "Requirement already satisfied: emoji in c:\\users\\ansar\\anaconda3\\envs\\research\\lib\\site-packages (from unstructured->-r requirements.txt (line 4)) (2.14.0)\n",
      "Requirement already satisfied: dataclasses-json in c:\\users\\ansar\\anaconda3\\envs\\research\\lib\\site-packages (from unstructured->-r requirements.txt (line 4)) (0.6.7)\n",
      "Requirement already satisfied: python-iso639 in c:\\users\\ansar\\anaconda3\\envs\\research\\lib\\site-packages (from unstructured->-r requirements.txt (line 4)) (2024.10.22)\n",
      "Requirement already satisfied: langdetect in c:\\users\\ansar\\anaconda3\\envs\\research\\lib\\site-packages (from unstructured->-r requirements.txt (line 4)) (1.0.9)\n",
      "Requirement already satisfied: rapidfuzz in c:\\users\\ansar\\anaconda3\\envs\\research\\lib\\site-packages (from unstructured->-r requirements.txt (line 4)) (3.11.0)\n",
      "Requirement already satisfied: backoff in c:\\users\\ansar\\anaconda3\\envs\\research\\lib\\site-packages (from unstructured->-r requirements.txt (line 4)) (2.2.1)\n",
      "Requirement already satisfied: unstructured-client in c:\\users\\ansar\\anaconda3\\envs\\research\\lib\\site-packages (from unstructured->-r requirements.txt (line 4)) (0.28.1)\n",
      "Requirement already satisfied: wrapt in c:\\users\\ansar\\anaconda3\\envs\\research\\lib\\site-packages (from unstructured->-r requirements.txt (line 4)) (1.17.0)\n",
      "Requirement already satisfied: tqdm in c:\\users\\ansar\\anaconda3\\envs\\research\\lib\\site-packages (from unstructured->-r requirements.txt (line 4)) (4.67.1)\n",
      "Requirement already satisfied: psutil in c:\\users\\ansar\\anaconda3\\envs\\research\\lib\\site-packages (from unstructured->-r requirements.txt (line 4)) (6.1.0)\n",
      "Requirement already satisfied: python-oxmsg in c:\\users\\ansar\\anaconda3\\envs\\research\\lib\\site-packages (from unstructured->-r requirements.txt (line 4)) (0.0.1)\n",
      "Requirement already satisfied: html5lib in c:\\users\\ansar\\anaconda3\\envs\\research\\lib\\site-packages (from unstructured->-r requirements.txt (line 4)) (1.1)\n",
      "Requirement already satisfied: regex>=2022.1.18 in c:\\users\\ansar\\anaconda3\\envs\\research\\lib\\site-packages (from tiktoken->-r requirements.txt (line 5)) (2024.11.6)\n",
      "Requirement already satisfied: anyio<5,>=3.5.0 in c:\\users\\ansar\\anaconda3\\envs\\research\\lib\\site-packages (from OpenAI->-r requirements.txt (line 10)) (4.7.0)\n",
      "Collecting distro<2,>=1.7.0 (from OpenAI->-r requirements.txt (line 10))\n",
      "  Downloading distro-1.9.0-py3-none-any.whl.metadata (6.8 kB)\n",
      "Requirement already satisfied: httpx<1,>=0.23.0 in c:\\users\\ansar\\anaconda3\\envs\\research\\lib\\site-packages (from OpenAI->-r requirements.txt (line 10)) (0.28.1)\n",
      "Collecting jiter<1,>=0.4.0 (from OpenAI->-r requirements.txt (line 10))\n",
      "  Downloading jiter-0.8.2-cp310-cp310-win_amd64.whl.metadata (5.3 kB)\n",
      "Requirement already satisfied: sniffio in c:\\users\\ansar\\anaconda3\\envs\\research\\lib\\site-packages (from OpenAI->-r requirements.txt (line 10)) (1.3.1)\n",
      "Requirement already satisfied: aiohappyeyeballs>=2.3.0 in c:\\users\\ansar\\anaconda3\\envs\\research\\lib\\site-packages (from aiohttp<4.0.0,>=3.8.3->langchain->-r requirements.txt (line 1)) (2.4.4)\n",
      "Requirement already satisfied: aiosignal>=1.1.2 in c:\\users\\ansar\\anaconda3\\envs\\research\\lib\\site-packages (from aiohttp<4.0.0,>=3.8.3->langchain->-r requirements.txt (line 1)) (1.3.2)\n",
      "Requirement already satisfied: attrs>=17.3.0 in c:\\users\\ansar\\anaconda3\\envs\\research\\lib\\site-packages (from aiohttp<4.0.0,>=3.8.3->langchain->-r requirements.txt (line 1)) (24.3.0)\n",
      "Requirement already satisfied: frozenlist>=1.1.1 in c:\\users\\ansar\\anaconda3\\envs\\research\\lib\\site-packages (from aiohttp<4.0.0,>=3.8.3->langchain->-r requirements.txt (line 1)) (1.5.0)\n",
      "Requirement already satisfied: multidict<7.0,>=4.5 in c:\\users\\ansar\\anaconda3\\envs\\research\\lib\\site-packages (from aiohttp<4.0.0,>=3.8.3->langchain->-r requirements.txt (line 1)) (6.1.0)\n",
      "Requirement already satisfied: propcache>=0.2.0 in c:\\users\\ansar\\anaconda3\\envs\\research\\lib\\site-packages (from aiohttp<4.0.0,>=3.8.3->langchain->-r requirements.txt (line 1)) (0.2.1)\n",
      "Requirement already satisfied: yarl<2.0,>=1.17.0 in c:\\users\\ansar\\anaconda3\\envs\\research\\lib\\site-packages (from aiohttp<4.0.0,>=3.8.3->langchain->-r requirements.txt (line 1)) (1.18.3)\n",
      "Collecting jinja2 (from altair<6,>=4.0->streamlit->-r requirements.txt (line 3))\n",
      "  Using cached jinja2-3.1.4-py3-none-any.whl.metadata (2.6 kB)\n",
      "Collecting jsonschema>=3.0 (from altair<6,>=4.0->streamlit->-r requirements.txt (line 3))\n",
      "  Using cached jsonschema-4.23.0-py3-none-any.whl.metadata (7.9 kB)\n",
      "Collecting narwhals>=1.14.2 (from altair<6,>=4.0->streamlit->-r requirements.txt (line 3))\n",
      "  Downloading narwhals-1.19.0-py3-none-any.whl.metadata (9.7 kB)\n",
      "Requirement already satisfied: exceptiongroup>=1.0.2 in c:\\users\\ansar\\anaconda3\\envs\\research\\lib\\site-packages (from anyio<5,>=3.5.0->OpenAI->-r requirements.txt (line 10)) (1.2.2)\n",
      "Requirement already satisfied: idna>=2.8 in c:\\users\\ansar\\anaconda3\\envs\\research\\lib\\site-packages (from anyio<5,>=3.5.0->OpenAI->-r requirements.txt (line 10)) (3.10)\n",
      "Requirement already satisfied: colorama in c:\\users\\ansar\\anaconda3\\envs\\research\\lib\\site-packages (from click<9,>=7.0->streamlit->-r requirements.txt (line 3)) (0.4.6)\n",
      "Collecting gitdb<5,>=4.0.1 (from gitpython!=3.1.19,<4,>=3.0.7->streamlit->-r requirements.txt (line 3))\n",
      "  Using cached gitdb-4.0.11-py3-none-any.whl.metadata (1.2 kB)\n",
      "Requirement already satisfied: certifi in c:\\users\\ansar\\anaconda3\\envs\\research\\lib\\site-packages (from httpx<1,>=0.23.0->OpenAI->-r requirements.txt (line 10)) (2024.12.14)\n",
      "Requirement already satisfied: httpcore==1.* in c:\\users\\ansar\\anaconda3\\envs\\research\\lib\\site-packages (from httpx<1,>=0.23.0->OpenAI->-r requirements.txt (line 10)) (1.0.7)\n",
      "Requirement already satisfied: h11<0.15,>=0.13 in c:\\users\\ansar\\anaconda3\\envs\\research\\lib\\site-packages (from httpcore==1.*->httpx<1,>=0.23.0->OpenAI->-r requirements.txt (line 10)) (0.14.0)\n",
      "Requirement already satisfied: jsonpatch<2.0,>=1.33 in c:\\users\\ansar\\anaconda3\\envs\\research\\lib\\site-packages (from langchain-core<0.4.0,>=0.3.26->langchain->-r requirements.txt (line 1)) (1.33)\n",
      "Requirement already satisfied: orjson<4.0.0,>=3.9.14 in c:\\users\\ansar\\anaconda3\\envs\\research\\lib\\site-packages (from langsmith<0.3,>=0.1.17->langchain->-r requirements.txt (line 1)) (3.10.12)\n",
      "Requirement already satisfied: requests-toolbelt<2.0.0,>=1.0.0 in c:\\users\\ansar\\anaconda3\\envs\\research\\lib\\site-packages (from langsmith<0.3,>=0.1.17->langchain->-r requirements.txt (line 1)) (1.0.0)\n",
      "Requirement already satisfied: python-dateutil>=2.8.2 in c:\\users\\ansar\\anaconda3\\envs\\research\\lib\\site-packages (from pandas<3,>=1.4.0->streamlit->-r requirements.txt (line 3)) (2.9.0.post0)\n",
      "Collecting pytz>=2020.1 (from pandas<3,>=1.4.0->streamlit->-r requirements.txt (line 3))\n",
      "  Using cached pytz-2024.2-py2.py3-none-any.whl.metadata (22 kB)\n",
      "Collecting tzdata>=2022.7 (from pandas<3,>=1.4.0->streamlit->-r requirements.txt (line 3))\n",
      "  Using cached tzdata-2024.2-py2.py3-none-any.whl.metadata (1.4 kB)\n",
      "Requirement already satisfied: annotated-types>=0.6.0 in c:\\users\\ansar\\anaconda3\\envs\\research\\lib\\site-packages (from pydantic<3.0.0,>=2.7.4->langchain->-r requirements.txt (line 1)) (0.7.0)\n",
      "Requirement already satisfied: pydantic-core==2.23.4 in c:\\users\\ansar\\anaconda3\\envs\\research\\lib\\site-packages (from pydantic<3.0.0,>=2.7.4->langchain->-r requirements.txt (line 1)) (2.23.4)\n",
      "Requirement already satisfied: charset-normalizer<4,>=2 in c:\\users\\ansar\\anaconda3\\envs\\research\\lib\\site-packages (from requests<3,>=2->langchain->-r requirements.txt (line 1)) (3.4.0)\n",
      "Requirement already satisfied: urllib3<3,>=1.21.1 in c:\\users\\ansar\\anaconda3\\envs\\research\\lib\\site-packages (from requests<3,>=2->langchain->-r requirements.txt (line 1)) (2.2.3)\n",
      "Collecting markdown-it-py>=2.2.0 (from rich<14,>=10.14.0->streamlit->-r requirements.txt (line 3))\n",
      "  Using cached markdown_it_py-3.0.0-py3-none-any.whl.metadata (6.9 kB)\n",
      "Requirement already satisfied: pygments<3.0.0,>=2.13.0 in c:\\users\\ansar\\anaconda3\\envs\\research\\lib\\site-packages (from rich<14,>=10.14.0->streamlit->-r requirements.txt (line 3)) (2.18.0)\n",
      "Requirement already satisfied: greenlet!=0.4.17 in c:\\users\\ansar\\anaconda3\\envs\\research\\lib\\site-packages (from SQLAlchemy<3,>=1.4->langchain->-r requirements.txt (line 1)) (3.1.1)\n",
      "Requirement already satisfied: soupsieve>1.2 in c:\\users\\ansar\\anaconda3\\envs\\research\\lib\\site-packages (from beautifulsoup4->unstructured->-r requirements.txt (line 4)) (2.6)\n",
      "Requirement already satisfied: marshmallow<4.0.0,>=3.18.0 in c:\\users\\ansar\\anaconda3\\envs\\research\\lib\\site-packages (from dataclasses-json->unstructured->-r requirements.txt (line 4)) (3.23.2)\n",
      "Requirement already satisfied: typing-inspect<1,>=0.4.0 in c:\\users\\ansar\\anaconda3\\envs\\research\\lib\\site-packages (from dataclasses-json->unstructured->-r requirements.txt (line 4)) (0.9.0)\n",
      "Requirement already satisfied: six>=1.9 in c:\\users\\ansar\\anaconda3\\envs\\research\\lib\\site-packages (from html5lib->unstructured->-r requirements.txt (line 4)) (1.17.0)\n",
      "Requirement already satisfied: webencodings in c:\\users\\ansar\\anaconda3\\envs\\research\\lib\\site-packages (from html5lib->unstructured->-r requirements.txt (line 4)) (0.5.1)\n",
      "Requirement already satisfied: joblib in c:\\users\\ansar\\anaconda3\\envs\\research\\lib\\site-packages (from nltk->unstructured->-r requirements.txt (line 4)) (1.4.2)\n",
      "Requirement already satisfied: olefile in c:\\users\\ansar\\anaconda3\\envs\\research\\lib\\site-packages (from python-oxmsg->unstructured->-r requirements.txt (line 4)) (0.47)\n",
      "Requirement already satisfied: aiofiles>=24.1.0 in c:\\users\\ansar\\anaconda3\\envs\\research\\lib\\site-packages (from unstructured-client->unstructured->-r requirements.txt (line 4)) (24.1.0)\n",
      "Requirement already satisfied: cryptography>=3.1 in c:\\users\\ansar\\anaconda3\\envs\\research\\lib\\site-packages (from unstructured-client->unstructured->-r requirements.txt (line 4)) (44.0.0)\n",
      "Requirement already satisfied: eval-type-backport<0.3.0,>=0.2.0 in c:\\users\\ansar\\anaconda3\\envs\\research\\lib\\site-packages (from unstructured-client->unstructured->-r requirements.txt (line 4)) (0.2.0)\n",
      "Requirement already satisfied: jsonpath-python<2.0.0,>=1.0.6 in c:\\users\\ansar\\anaconda3\\envs\\research\\lib\\site-packages (from unstructured-client->unstructured->-r requirements.txt (line 4)) (1.0.6)\n",
      "Requirement already satisfied: nest-asyncio>=1.6.0 in c:\\users\\ansar\\anaconda3\\envs\\research\\lib\\site-packages (from unstructured-client->unstructured->-r requirements.txt (line 4)) (1.6.0)\n",
      "Requirement already satisfied: pypdf>=4.0 in c:\\users\\ansar\\anaconda3\\envs\\research\\lib\\site-packages (from unstructured-client->unstructured->-r requirements.txt (line 4)) (5.1.0)\n",
      "Requirement already satisfied: cffi>=1.12 in c:\\users\\ansar\\anaconda3\\envs\\research\\lib\\site-packages (from cryptography>=3.1->unstructured-client->unstructured->-r requirements.txt (line 4)) (1.17.1)\n",
      "Collecting smmap<6,>=3.0.1 (from gitdb<5,>=4.0.1->gitpython!=3.1.19,<4,>=3.0.7->streamlit->-r requirements.txt (line 3))\n",
      "  Using cached smmap-5.0.1-py3-none-any.whl.metadata (4.3 kB)\n",
      "Collecting MarkupSafe>=2.0 (from jinja2->altair<6,>=4.0->streamlit->-r requirements.txt (line 3))\n",
      "  Downloading MarkupSafe-3.0.2-cp310-cp310-win_amd64.whl.metadata (4.1 kB)\n",
      "Requirement already satisfied: jsonpointer>=1.9 in c:\\users\\ansar\\anaconda3\\envs\\research\\lib\\site-packages (from jsonpatch<2.0,>=1.33->langchain-core<0.4.0,>=0.3.26->langchain->-r requirements.txt (line 1)) (3.0.0)\n",
      "Collecting jsonschema-specifications>=2023.03.6 (from jsonschema>=3.0->altair<6,>=4.0->streamlit->-r requirements.txt (line 3))\n",
      "  Downloading jsonschema_specifications-2024.10.1-py3-none-any.whl.metadata (3.0 kB)\n",
      "Collecting referencing>=0.28.4 (from jsonschema>=3.0->altair<6,>=4.0->streamlit->-r requirements.txt (line 3))\n",
      "  Using cached referencing-0.35.1-py3-none-any.whl.metadata (2.8 kB)\n",
      "Collecting rpds-py>=0.7.1 (from jsonschema>=3.0->altair<6,>=4.0->streamlit->-r requirements.txt (line 3))\n",
      "  Downloading rpds_py-0.22.3-cp310-cp310-win_amd64.whl.metadata (4.2 kB)\n",
      "Collecting mdurl~=0.1 (from markdown-it-py>=2.2.0->rich<14,>=10.14.0->streamlit->-r requirements.txt (line 3))\n",
      "  Using cached mdurl-0.1.2-py3-none-any.whl.metadata (1.6 kB)\n",
      "Requirement already satisfied: mypy-extensions>=0.3.0 in c:\\users\\ansar\\anaconda3\\envs\\research\\lib\\site-packages (from typing-inspect<1,>=0.4.0->dataclasses-json->unstructured->-r requirements.txt (line 4)) (1.0.0)\n",
      "Requirement already satisfied: pycparser in c:\\users\\ansar\\anaconda3\\envs\\research\\lib\\site-packages (from cffi>=1.12->cryptography>=3.1->unstructured-client->unstructured->-r requirements.txt (line 4)) (2.22)\n",
      "Using cached streamlit-1.41.1-py2.py3-none-any.whl (9.1 MB)\n",
      "Downloading tiktoken-0.8.0-cp310-cp310-win_amd64.whl (884 kB)\n",
      "   ---------------------------------------- 0.0/884.2 kB ? eta -:--:--\n",
      "   ---------------------------------------- 884.2/884.2 kB 8.0 MB/s eta 0:00:00\n",
      "Downloading faiss_cpu-1.9.0.post1-cp310-cp310-win_amd64.whl (13.8 MB)\n",
      "   ---------------------------------------- 0.0/13.8 MB ? eta -:--:--\n",
      "   ----- ---------------------------------- 1.8/13.8 MB 9.1 MB/s eta 0:00:02\n",
      "   ------------ --------------------------- 4.2/13.8 MB 10.5 MB/s eta 0:00:01\n",
      "   -------------------- ------------------- 7.1/13.8 MB 11.2 MB/s eta 0:00:01\n",
      "   -------------------------- ------------- 9.2/13.8 MB 11.2 MB/s eta 0:00:01\n",
      "   ---------------------------------- ----- 11.8/13.8 MB 11.2 MB/s eta 0:00:01\n",
      "   ---------------------------------------- 13.8/13.8 MB 11.0 MB/s eta 0:00:00\n",
      "Using cached openai-1.58.1-py3-none-any.whl (454 kB)\n",
      "Downloading altair-5.5.0-py3-none-any.whl (731 kB)\n",
      "   ---------------------------------------- 0.0/731.2 kB ? eta -:--:--\n",
      "   --------------------------------------- 731.2/731.2 kB 10.0 MB/s eta 0:00:00\n",
      "Downloading blinker-1.9.0-py3-none-any.whl (8.5 kB)\n",
      "Using cached cachetools-5.5.0-py3-none-any.whl (9.5 kB)\n",
      "Downloading distro-1.9.0-py3-none-any.whl (20 kB)\n",
      "Using cached GitPython-3.1.43-py3-none-any.whl (207 kB)\n",
      "Downloading jiter-0.8.2-cp310-cp310-win_amd64.whl (204 kB)\n",
      "Downloading pandas-2.2.3-cp310-cp310-win_amd64.whl (11.6 MB)\n",
      "   ---------------------------------------- 0.0/11.6 MB ? eta -:--:--\n",
      "   -------- ------------------------------- 2.4/11.6 MB 12.2 MB/s eta 0:00:01\n",
      "   ---------------- ----------------------- 4.7/11.6 MB 11.9 MB/s eta 0:00:01\n",
      "   ------------------------ --------------- 7.1/11.6 MB 11.5 MB/s eta 0:00:01\n",
      "   -------------------------------- ------- 9.4/11.6 MB 11.7 MB/s eta 0:00:01\n",
      "   --------------------------------- ------ 9.7/11.6 MB 9.4 MB/s eta 0:00:01\n",
      "   ---------------------------------------- 11.6/11.6 MB 9.6 MB/s eta 0:00:00\n",
      "Downloading pillow-11.0.0-cp310-cp310-win_amd64.whl (2.6 MB)\n",
      "   ---------------------------------------- 0.0/2.6 MB ? eta -:--:--\n",
      "   -------------------------------- ------- 2.1/2.6 MB 10.7 MB/s eta 0:00:01\n",
      "   ---------------------------------------- 2.6/2.6 MB 9.2 MB/s eta 0:00:00\n",
      "Downloading protobuf-5.29.2-cp310-abi3-win_amd64.whl (434 kB)\n",
      "Downloading pyarrow-18.1.0-cp310-cp310-win_amd64.whl (25.1 MB)\n",
      "   ---------------------------------------- 0.0/25.1 MB ? eta -:--:--\n",
      "   --- ------------------------------------ 2.4/25.1 MB 12.3 MB/s eta 0:00:02\n",
      "   ------- -------------------------------- 5.0/25.1 MB 12.1 MB/s eta 0:00:02\n",
      "   ----------- ---------------------------- 7.3/25.1 MB 11.9 MB/s eta 0:00:02\n",
      "   --------------- ------------------------ 10.0/25.1 MB 11.9 MB/s eta 0:00:02\n",
      "   -------------------- ------------------- 12.6/25.1 MB 12.0 MB/s eta 0:00:02\n",
      "   ----------------------- ---------------- 14.9/25.1 MB 11.9 MB/s eta 0:00:01\n",
      "   --------------------------- ------------ 17.6/25.1 MB 11.9 MB/s eta 0:00:01\n",
      "   -------------------------------- ------- 20.2/25.1 MB 11.9 MB/s eta 0:00:01\n",
      "   ----------------------------------- ---- 22.5/25.1 MB 11.9 MB/s eta 0:00:01\n",
      "   ---------------------------------------  24.9/25.1 MB 12.0 MB/s eta 0:00:01\n",
      "   ---------------------------------------- 25.1/25.1 MB 11.6 MB/s eta 0:00:00\n",
      "Using cached pydeck-0.9.1-py2.py3-none-any.whl (6.9 MB)\n",
      "Using cached rich-13.9.4-py3-none-any.whl (242 kB)\n",
      "Using cached toml-0.10.2-py2.py3-none-any.whl (16 kB)\n",
      "Downloading watchdog-6.0.0-py3-none-win_amd64.whl (79 kB)\n",
      "Using cached gitdb-4.0.11-py3-none-any.whl (62 kB)\n",
      "Using cached jinja2-3.1.4-py3-none-any.whl (133 kB)\n",
      "Using cached jsonschema-4.23.0-py3-none-any.whl (88 kB)\n",
      "Using cached markdown_it_py-3.0.0-py3-none-any.whl (87 kB)\n",
      "Downloading narwhals-1.19.0-py3-none-any.whl (256 kB)\n",
      "Using cached pytz-2024.2-py2.py3-none-any.whl (508 kB)\n",
      "Using cached tzdata-2024.2-py2.py3-none-any.whl (346 kB)\n",
      "Downloading jsonschema_specifications-2024.10.1-py3-none-any.whl (18 kB)\n",
      "Downloading MarkupSafe-3.0.2-cp310-cp310-win_amd64.whl (15 kB)\n",
      "Using cached mdurl-0.1.2-py3-none-any.whl (10.0 kB)\n",
      "Using cached referencing-0.35.1-py3-none-any.whl (26 kB)\n",
      "Downloading rpds_py-0.22.3-cp310-cp310-win_amd64.whl (231 kB)\n",
      "Using cached smmap-5.0.1-py3-none-any.whl (24 kB)\n",
      "Installing collected packages: pytz, watchdog, tzdata, toml, smmap, rpds-py, pyarrow, protobuf, pillow, narwhals, mdurl, MarkupSafe, jiter, faiss-cpu, distro, cachetools, blinker, tiktoken, referencing, pandas, markdown-it-py, jinja2, gitdb, rich, pydeck, OpenAI, jsonschema-specifications, gitpython, jsonschema, altair, streamlit\n",
      "Successfully installed MarkupSafe-3.0.2 OpenAI-1.58.1 altair-5.5.0 blinker-1.9.0 cachetools-5.5.0 distro-1.9.0 faiss-cpu-1.9.0.post1 gitdb-4.0.11 gitpython-3.1.43 jinja2-3.1.4 jiter-0.8.2 jsonschema-4.23.0 jsonschema-specifications-2024.10.1 markdown-it-py-3.0.0 mdurl-0.1.2 narwhals-1.19.0 pandas-2.2.3 pillow-11.0.0 protobuf-5.29.2 pyarrow-18.1.0 pydeck-0.9.1 pytz-2024.2 referencing-0.35.1 rich-13.9.4 rpds-py-0.22.3 smmap-5.0.1 streamlit-1.41.1 tiktoken-0.8.0 toml-0.10.2 tzdata-2024.2 watchdog-6.0.0\n"
     ]
    }
   ],
   "source": [
    "# !pip install langchain\n",
    "# !pip install langchain-community\n",
    "# %pip install -r requirements.txt"
   ]
  },
  {
   "cell_type": "code",
   "execution_count": 1,
   "metadata": {},
   "outputs": [],
   "source": [
    "from langchain.document_loaders import TextLoader"
   ]
  },
  {
   "cell_type": "code",
   "execution_count": 2,
   "metadata": {},
   "outputs": [
    {
     "data": {
      "text/plain": [
       "\"The stock of NVIDIA Corp (NASDAQ:NVDA) experienced a daily loss of -3.56% and a 3-month gain of 32.35%. With an Earnings Per Share (EPS) (EPS) of $1.92, the question arises: is the stock significantly overvalued? This article aims to provide a detailed valuation analysis of NVIDIA, offering insights into its financial strength, profitability, growth, and more. We invite you to delve into this comprehensive analysis.\\n\\nCompany Overview\\nWarning! GuruFocus has detected 10 Warning Signs with NVDA. Click here to check it out.\\n\\nNVDA 30-Year Financial Data\\n\\nThe intrinsic value of NVDA\\n\\n\\nNVIDIA Corp (NASDAQ:NVDA) is a leading designer of discrete graphics processing units that enhance the experience on computing platforms. The firm's chips are widely used in various end markets, including PC gaming and data centers. In recent years, NVIDIA has broadened its focus from traditional PC graphics applications such as gaming to more complex and favorable opportunities, including artificial intelligence and autonomous driving, leveraging the high-performance capabilities of its products.\\n\\nCurrently, NVIDIA's stock price stands at $418.01, significantly higher than the GF Value of $310.28, indicating the stock might be overvalued. With a market cap of $1 trillion, the valuation seems steep. The following analysis aims to delve deeper into the company's value.\\n\\nIs NVIDIA's Stock Significantly Overvalued? A Comprehensive Valuation Analysis\\nIs NVIDIA's Stock Significantly Overvalued? A Comprehensive Valuation Analysis\\nUnderstanding the GF Value\\nThe GF Value is a unique measure of the intrinsic value of a stock, calculated based on historical trading multiples, a GuruFocus adjustment factor, and future business performance estimates. If the stock price is significantly above the GF Value Line, it is overvalued, and its future return is likely to be poor. Conversely, if it is significantly below the GF Value Line, its future return will likely be higher.\\n\\nAccording to GuruFocus Value calculation, NVIDIA (NASDAQ:NVDA) appears to be significantly overvalued. The stock's current price of $418.01 per share and the market cap of $1 trillion further strengthen this assumption.\\n\\nGiven that NVIDIA is significantly overvalued, the long-term return of its stock is likely to be much lower than its future business growth.\\n\\nIs NVIDIA's Stock Significantly Overvalued? A Comprehensive Valuation Analysis\\nIs NVIDIA's Stock Significantly Overvalued? A Comprehensive Valuation Analysis\\nLink: These companies may deliver higher future returns at reduced risk.\\n\\nFinancial Strength of NVIDIA\\nExamining the financial strength of a company is crucial before investing in its stock. Companies with poor financial strength pose a higher risk of permanent loss. NVIDIA's cash-to-debt ratio of 1.27 is worse than 58.04% of companies in the Semiconductors industry. However, NVIDIA's overall financial strength is 8 out of 10, indicating a strong financial position.\\n\\nIs NVIDIA's Stock Significantly Overvalued? A Comprehensive Valuation Analysis\\nIs NVIDIA's Stock Significantly Overvalued? A Comprehensive Valuation Analysis\\nProfitability and Growth\\nConsistent profitability over the long term reduces the risk for investors. NVIDIA, with its profitability ranking of 10 out of 10, has been profitable for the past 10 years. The company's operating margin of 17.37% ranks better than 76.5% of companies in the Semiconductors industry.\\n\\nHowever, growth is a crucial factor in a company's valuation. NVIDIA's growth ranks worse than 52.99% of companies in the Semiconductors industry, with its 3-year average revenue growth rate better than 87.88% of companies in the industry.\\n\\nROIC vs WACC\\nComparing a company's return on invested capital (ROIC) to its weighted average cost of capital (WACC) is an effective way to evaluate its profitability. Over the past 12 months, NVIDIA's ROIC was 20.32 while its WACC was 16.74, suggesting that the company is creating value for its shareholders.\\n\\nIs NVIDIA's Stock Significantly Overvalued? A Comprehensive Valuation Analysis\\nIs NVIDIA's Stock Significantly Overvalued? A Comprehensive Valuation Analysis\\nConclusion\\nIn conclusion, NVIDIA (NASDAQ:NVDA) appears to be significantly overvalued. Despite its strong financial condition and profitability, its growth ranks lower than 52.99% of companies in the Semiconductors industry. To learn more about NVIDIA stock, you can check out its 30-Year Financials here.\\n\\nTo find out the high quality companies that may deliver above-average returns, please check out GuruFocus High Quality Low Capex Screener.\\n\\nThis article first appeared on GuruFocus.\""
      ]
     },
     "execution_count": 2,
     "metadata": {},
     "output_type": "execute_result"
    }
   ],
   "source": [
    "loader = TextLoader('nvda_news_1.txt')\n",
    "data = loader.load()\n",
    "data[0].page_content"
   ]
  },
  {
   "cell_type": "markdown",
   "metadata": {},
   "source": [
    "UnstructuredURLLoader\n",
    "\n",
    "UnstructuredURLLoader of Langchain internally uses unstructured python library to load the content from url's"
   ]
  },
  {
   "cell_type": "code",
   "execution_count": 3,
   "metadata": {},
   "outputs": [
    {
     "data": {
      "text/plain": [
       "{'source': 'K.G.F: Chapter 2', 'row': 0}"
      ]
     },
     "execution_count": 3,
     "metadata": {},
     "output_type": "execute_result"
    }
   ],
   "source": [
    "from langchain.document_loaders.csv_loader import CSVLoader\n",
    "\n",
    "loader = CSVLoader('movies.csv', source_column='title')\n",
    "data = loader.load()\n",
    "\n",
    "data[0].metadata"
   ]
  },
  {
   "cell_type": "code",
   "execution_count": 4,
   "metadata": {},
   "outputs": [
    {
     "name": "stdout",
     "output_type": "stream",
     "text": [
      "Requirement already satisfied: unstructured in c:\\users\\ansar\\anaconda3\\envs\\research\\lib\\site-packages (0.16.11)\n",
      "Requirement already satisfied: libmagic in c:\\users\\ansar\\anaconda3\\envs\\research\\lib\\site-packages (1.0)\n",
      "Requirement already satisfied: python-magic in c:\\users\\ansar\\anaconda3\\envs\\research\\lib\\site-packages (0.4.27)\n",
      "Requirement already satisfied: python-magic-bin in c:\\users\\ansar\\anaconda3\\envs\\research\\lib\\site-packages (0.4.14)\n",
      "Requirement already satisfied: chardet in c:\\users\\ansar\\anaconda3\\envs\\research\\lib\\site-packages (from unstructured) (5.2.0)\n",
      "Requirement already satisfied: filetype in c:\\users\\ansar\\anaconda3\\envs\\research\\lib\\site-packages (from unstructured) (1.2.0)\n",
      "Requirement already satisfied: lxml in c:\\users\\ansar\\anaconda3\\envs\\research\\lib\\site-packages (from unstructured) (5.3.0)\n",
      "Requirement already satisfied: nltk in c:\\users\\ansar\\anaconda3\\envs\\research\\lib\\site-packages (from unstructured) (3.9.1)\n",
      "Requirement already satisfied: requests in c:\\users\\ansar\\anaconda3\\envs\\research\\lib\\site-packages (from unstructured) (2.32.3)\n",
      "Requirement already satisfied: beautifulsoup4 in c:\\users\\ansar\\anaconda3\\envs\\research\\lib\\site-packages (from unstructured) (4.12.3)\n",
      "Requirement already satisfied: emoji in c:\\users\\ansar\\anaconda3\\envs\\research\\lib\\site-packages (from unstructured) (2.14.0)\n",
      "Requirement already satisfied: dataclasses-json in c:\\users\\ansar\\anaconda3\\envs\\research\\lib\\site-packages (from unstructured) (0.6.7)\n",
      "Requirement already satisfied: python-iso639 in c:\\users\\ansar\\anaconda3\\envs\\research\\lib\\site-packages (from unstructured) (2024.10.22)\n",
      "Requirement already satisfied: langdetect in c:\\users\\ansar\\anaconda3\\envs\\research\\lib\\site-packages (from unstructured) (1.0.9)\n",
      "Requirement already satisfied: numpy<2 in c:\\users\\ansar\\anaconda3\\envs\\research\\lib\\site-packages (from unstructured) (1.26.4)\n",
      "Requirement already satisfied: rapidfuzz in c:\\users\\ansar\\anaconda3\\envs\\research\\lib\\site-packages (from unstructured) (3.11.0)\n",
      "Requirement already satisfied: backoff in c:\\users\\ansar\\anaconda3\\envs\\research\\lib\\site-packages (from unstructured) (2.2.1)\n",
      "Requirement already satisfied: typing-extensions in c:\\users\\ansar\\anaconda3\\envs\\research\\lib\\site-packages (from unstructured) (4.12.2)\n",
      "Requirement already satisfied: unstructured-client in c:\\users\\ansar\\anaconda3\\envs\\research\\lib\\site-packages (from unstructured) (0.28.1)\n",
      "Requirement already satisfied: wrapt in c:\\users\\ansar\\anaconda3\\envs\\research\\lib\\site-packages (from unstructured) (1.17.0)\n",
      "Requirement already satisfied: tqdm in c:\\users\\ansar\\anaconda3\\envs\\research\\lib\\site-packages (from unstructured) (4.67.1)\n",
      "Requirement already satisfied: psutil in c:\\users\\ansar\\anaconda3\\envs\\research\\lib\\site-packages (from unstructured) (6.1.0)\n",
      "Requirement already satisfied: python-oxmsg in c:\\users\\ansar\\anaconda3\\envs\\research\\lib\\site-packages (from unstructured) (0.0.1)\n",
      "Requirement already satisfied: html5lib in c:\\users\\ansar\\anaconda3\\envs\\research\\lib\\site-packages (from unstructured) (1.1)\n",
      "Requirement already satisfied: soupsieve>1.2 in c:\\users\\ansar\\anaconda3\\envs\\research\\lib\\site-packages (from beautifulsoup4->unstructured) (2.6)\n",
      "Requirement already satisfied: marshmallow<4.0.0,>=3.18.0 in c:\\users\\ansar\\anaconda3\\envs\\research\\lib\\site-packages (from dataclasses-json->unstructured) (3.23.2)\n",
      "Requirement already satisfied: typing-inspect<1,>=0.4.0 in c:\\users\\ansar\\anaconda3\\envs\\research\\lib\\site-packages (from dataclasses-json->unstructured) (0.9.0)\n",
      "Requirement already satisfied: six>=1.9 in c:\\users\\ansar\\anaconda3\\envs\\research\\lib\\site-packages (from html5lib->unstructured) (1.17.0)\n",
      "Requirement already satisfied: webencodings in c:\\users\\ansar\\anaconda3\\envs\\research\\lib\\site-packages (from html5lib->unstructured) (0.5.1)\n",
      "Requirement already satisfied: click in c:\\users\\ansar\\anaconda3\\envs\\research\\lib\\site-packages (from nltk->unstructured) (8.1.7)\n",
      "Requirement already satisfied: joblib in c:\\users\\ansar\\anaconda3\\envs\\research\\lib\\site-packages (from nltk->unstructured) (1.4.2)\n",
      "Requirement already satisfied: regex>=2021.8.3 in c:\\users\\ansar\\anaconda3\\envs\\research\\lib\\site-packages (from nltk->unstructured) (2024.11.6)\n",
      "Requirement already satisfied: olefile in c:\\users\\ansar\\anaconda3\\envs\\research\\lib\\site-packages (from python-oxmsg->unstructured) (0.47)\n",
      "Requirement already satisfied: charset-normalizer<4,>=2 in c:\\users\\ansar\\anaconda3\\envs\\research\\lib\\site-packages (from requests->unstructured) (3.4.0)\n",
      "Requirement already satisfied: idna<4,>=2.5 in c:\\users\\ansar\\anaconda3\\envs\\research\\lib\\site-packages (from requests->unstructured) (3.10)\n",
      "Requirement already satisfied: urllib3<3,>=1.21.1 in c:\\users\\ansar\\anaconda3\\envs\\research\\lib\\site-packages (from requests->unstructured) (2.2.3)\n",
      "Requirement already satisfied: certifi>=2017.4.17 in c:\\users\\ansar\\anaconda3\\envs\\research\\lib\\site-packages (from requests->unstructured) (2024.12.14)\n",
      "Requirement already satisfied: colorama in c:\\users\\ansar\\anaconda3\\envs\\research\\lib\\site-packages (from tqdm->unstructured) (0.4.6)\n",
      "Requirement already satisfied: aiofiles>=24.1.0 in c:\\users\\ansar\\anaconda3\\envs\\research\\lib\\site-packages (from unstructured-client->unstructured) (24.1.0)\n",
      "Requirement already satisfied: cryptography>=3.1 in c:\\users\\ansar\\anaconda3\\envs\\research\\lib\\site-packages (from unstructured-client->unstructured) (44.0.0)\n",
      "Requirement already satisfied: eval-type-backport<0.3.0,>=0.2.0 in c:\\users\\ansar\\anaconda3\\envs\\research\\lib\\site-packages (from unstructured-client->unstructured) (0.2.0)\n",
      "Requirement already satisfied: httpx>=0.27.0 in c:\\users\\ansar\\anaconda3\\envs\\research\\lib\\site-packages (from unstructured-client->unstructured) (0.28.1)\n",
      "Requirement already satisfied: jsonpath-python<2.0.0,>=1.0.6 in c:\\users\\ansar\\anaconda3\\envs\\research\\lib\\site-packages (from unstructured-client->unstructured) (1.0.6)\n",
      "Requirement already satisfied: nest-asyncio>=1.6.0 in c:\\users\\ansar\\anaconda3\\envs\\research\\lib\\site-packages (from unstructured-client->unstructured) (1.6.0)\n",
      "Requirement already satisfied: pydantic<2.10.0,>=2.9.2 in c:\\users\\ansar\\anaconda3\\envs\\research\\lib\\site-packages (from unstructured-client->unstructured) (2.9.2)\n",
      "Requirement already satisfied: pypdf>=4.0 in c:\\users\\ansar\\anaconda3\\envs\\research\\lib\\site-packages (from unstructured-client->unstructured) (5.1.0)\n",
      "Requirement already satisfied: python-dateutil<3.0.0,>=2.8.2 in c:\\users\\ansar\\anaconda3\\envs\\research\\lib\\site-packages (from unstructured-client->unstructured) (2.9.0.post0)\n",
      "Requirement already satisfied: requests-toolbelt>=1.0.0 in c:\\users\\ansar\\anaconda3\\envs\\research\\lib\\site-packages (from unstructured-client->unstructured) (1.0.0)\n",
      "Requirement already satisfied: cffi>=1.12 in c:\\users\\ansar\\anaconda3\\envs\\research\\lib\\site-packages (from cryptography>=3.1->unstructured-client->unstructured) (1.17.1)\n",
      "Requirement already satisfied: anyio in c:\\users\\ansar\\anaconda3\\envs\\research\\lib\\site-packages (from httpx>=0.27.0->unstructured-client->unstructured) (4.7.0)\n",
      "Requirement already satisfied: httpcore==1.* in c:\\users\\ansar\\anaconda3\\envs\\research\\lib\\site-packages (from httpx>=0.27.0->unstructured-client->unstructured) (1.0.7)\n",
      "Requirement already satisfied: h11<0.15,>=0.13 in c:\\users\\ansar\\anaconda3\\envs\\research\\lib\\site-packages (from httpcore==1.*->httpx>=0.27.0->unstructured-client->unstructured) (0.14.0)\n",
      "Requirement already satisfied: packaging>=17.0 in c:\\users\\ansar\\anaconda3\\envs\\research\\lib\\site-packages (from marshmallow<4.0.0,>=3.18.0->dataclasses-json->unstructured) (24.2)\n",
      "Requirement already satisfied: annotated-types>=0.6.0 in c:\\users\\ansar\\anaconda3\\envs\\research\\lib\\site-packages (from pydantic<2.10.0,>=2.9.2->unstructured-client->unstructured) (0.7.0)\n",
      "Requirement already satisfied: pydantic-core==2.23.4 in c:\\users\\ansar\\anaconda3\\envs\\research\\lib\\site-packages (from pydantic<2.10.0,>=2.9.2->unstructured-client->unstructured) (2.23.4)\n",
      "Requirement already satisfied: mypy-extensions>=0.3.0 in c:\\users\\ansar\\anaconda3\\envs\\research\\lib\\site-packages (from typing-inspect<1,>=0.4.0->dataclasses-json->unstructured) (1.0.0)\n",
      "Requirement already satisfied: pycparser in c:\\users\\ansar\\anaconda3\\envs\\research\\lib\\site-packages (from cffi>=1.12->cryptography>=3.1->unstructured-client->unstructured) (2.22)\n",
      "Requirement already satisfied: exceptiongroup>=1.0.2 in c:\\users\\ansar\\anaconda3\\envs\\research\\lib\\site-packages (from anyio->httpx>=0.27.0->unstructured-client->unstructured) (1.2.2)\n",
      "Requirement already satisfied: sniffio>=1.1 in c:\\users\\ansar\\anaconda3\\envs\\research\\lib\\site-packages (from anyio->httpx>=0.27.0->unstructured-client->unstructured) (1.3.1)\n"
     ]
    }
   ],
   "source": [
    "!pip3 install unstructured libmagic python-magic python-magic-bin"
   ]
  },
  {
   "cell_type": "code",
   "execution_count": 5,
   "metadata": {},
   "outputs": [],
   "source": [
    "from langchain.document_loaders import UnstructuredURLLoader\n",
    "\n",
    "loader = UnstructuredURLLoader(urls = [\n",
    "        \"https://www.moneycontrol.com/news/business/banks/hdfc-bank-re-appoints-sanmoy-chakrabarti-as-chief-risk-officer-11259771.html\",\n",
    "        \"https://www.moneycontrol.com/news/business/markets/market-corrects-post-rbi-ups-inflation-forecast-icrr-bet-on-these-top-10-rate-sensitive-stocks-ideas-11142611.html\"\n",
    "    ])"
   ]
  },
  {
   "cell_type": "code",
   "execution_count": 6,
   "metadata": {},
   "outputs": [],
   "source": [
    "data = loader.load()"
   ]
  },
  {
   "cell_type": "code",
   "execution_count": 7,
   "metadata": {},
   "outputs": [
    {
     "data": {
      "text/plain": [
       "{'source': 'https://www.moneycontrol.com/news/business/banks/hdfc-bank-re-appoints-sanmoy-chakrabarti-as-chief-risk-officer-11259771.html'}"
      ]
     },
     "execution_count": 7,
     "metadata": {},
     "output_type": "execute_result"
    }
   ],
   "source": [
    "data[0].metadata"
   ]
  },
  {
   "cell_type": "markdown",
   "metadata": {},
   "source": [
    "# Text Splitters\n",
    "### Why do we need text splitters in first place?\n",
    "\n",
    "LLM's have token limits. Hence we need to split the text which can be large into small chunks so that each chunk size is under the token limit. There are various text splitter classes in langchain that allows us to do this."
   ]
  },
  {
   "cell_type": "code",
   "execution_count": 8,
   "metadata": {},
   "outputs": [],
   "source": [
    "# Taking some random text from wikipedia\n",
    "\n",
    "text = \"\"\"Interstellar is a 2014 epic science fiction film co-written, directed, and produced by Christopher Nolan. \n",
    "It stars Matthew McConaughey, Anne Hathaway, Jessica Chastain, Bill Irwin, Ellen Burstyn, Matt Damon, and Michael Caine. \n",
    "Set in a dystopian future where humanity is embroiled in a catastrophic blight and famine, the film follows a group of astronauts who travel through a wormhole near Saturn in search of a new home for humankind.\n",
    "\n",
    "Brothers Christopher and Jonathan Nolan wrote the screenplay, which had its origins in a script Jonathan developed in 2007 and was originally set to be directed by Steven Spielberg. \n",
    "Kip Thorne, a Caltech theoretical physicist and 2017 Nobel laureate in Physics,[4] was an executive producer, acted as a scientific consultant, and wrote a tie-in book, The Science of Interstellar. \n",
    "Cinematographer Hoyte van Hoytema shot it on 35 mm movie film in the Panavision anamorphic format and IMAX 70 mm. Principal photography began in late 2013 and took place in Alberta, Iceland, and Los Angeles. \n",
    "Interstellar uses extensive practical and miniature effects, and the company Double Negative created additional digital effects.\n",
    "\n",
    "Interstellar premiered in Los Angeles on October 26, 2014. In the United States, it was first released on film stock, expanding to venues using digital projectors. The film received generally positive reviews from critics and grossed over $677 million worldwide ($715 million after subsequent re-releases), making it the tenth-highest-grossing film of 2014. \n",
    "It has been praised by astronomers for its scientific accuracy and portrayal of theoretical astrophysics.[5][6][7] Interstellar was nominated for five awards at the 87th Academy Awards, winning Best Visual Effects, and received numerous other accolades.\"\"\"\n"
   ]
  },
  {
   "cell_type": "markdown",
   "metadata": {},
   "source": [
    "Manual approach of splitting the text into chunks"
   ]
  },
  {
   "cell_type": "code",
   "execution_count": 9,
   "metadata": {},
   "outputs": [
    {
     "data": {
      "text/plain": [
       "'Interstellar is a 2014 epic science fiction film co-written, directed, and produced by Christopher N'"
      ]
     },
     "execution_count": 9,
     "metadata": {},
     "output_type": "execute_result"
    }
   ],
   "source": [
    "# Say LLM token limit is 100, in that case we can do simple thing such as this\n",
    "\n",
    "text[0:100]"
   ]
  },
  {
   "cell_type": "markdown",
   "metadata": {},
   "source": [
    "But in this case , we might miss some words "
   ]
  },
  {
   "cell_type": "code",
   "execution_count": 10,
   "metadata": {},
   "outputs": [
    {
     "data": {
      "text/plain": [
       "['Interstellar is a 2014 epic science fiction film co-written, directed, and produced by Christopher Nolan. \\nIt stars Matthew McConaughey, Anne Hathaway, Jessica Chastain, Bill Irwin, Ellen Burstyn, Matt ',\n",
       " 'Damon, and Michael Caine. \\nSet in a dystopian future where humanity is embroiled in a catastrophic blight and famine, the film follows a group of astronauts who travel through a wormhole near Saturn in ']"
      ]
     },
     "execution_count": 10,
     "metadata": {},
     "output_type": "execute_result"
    }
   ],
   "source": [
    "# Well but we want complete words and want to do this for entire text, may be we can use Python's split funciton\n",
    "\n",
    "words = text.split(\" \")\n",
    "len(words)\n",
    "\n",
    "\n",
    "\n",
    "chunks = []\n",
    "\n",
    "s = \"\"\n",
    "for word in words:\n",
    "    s += word + \" \"\n",
    "    if len(s)>200:\n",
    "        chunks.append(s)\n",
    "        s = \"\"\n",
    "        \n",
    "chunks.append(s)\n",
    "\n",
    "\n",
    "chunks[:2]"
   ]
  },
  {
   "cell_type": "markdown",
   "metadata": {},
   "source": [
    "Splitting data into chunks can be done in native python but it is a tidious process. Also if necessary, you may need to experiment with various delimiters in an iterative manner to ensure that each chunk does not exceed the token length limit of the respective LLM.\n",
    "\n",
    "Langchain provides a better way through text splitter classes.\n",
    "\n",
    "Using Text Splitter Classes from Langchain\n",
    "\n",
    "**CharacterTextSplitter**"
   ]
  },
  {
   "cell_type": "code",
   "execution_count": 11,
   "metadata": {},
   "outputs": [],
   "source": [
    "from langchain.text_splitter import CharacterTextSplitter\n",
    "\n",
    "splitter = CharacterTextSplitter(\n",
    "    separator = \"\\n\",\n",
    "    chunk_size=200,\n",
    "    chunk_overlap=0\n",
    ")"
   ]
  },
  {
   "cell_type": "code",
   "execution_count": 14,
   "metadata": {},
   "outputs": [
    {
     "name": "stderr",
     "output_type": "stream",
     "text": [
      "Created a chunk of size 210, which is longer than the specified 200\n",
      "Created a chunk of size 208, which is longer than the specified 200\n",
      "Created a chunk of size 358, which is longer than the specified 200\n"
     ]
    },
    {
     "data": {
      "text/plain": [
       "9"
      ]
     },
     "execution_count": 14,
     "metadata": {},
     "output_type": "execute_result"
    }
   ],
   "source": [
    "chunks = splitter.split_text(text)\n",
    "len(chunks)"
   ]
  },
  {
   "cell_type": "code",
   "execution_count": 15,
   "metadata": {},
   "outputs": [
    {
     "name": "stdout",
     "output_type": "stream",
     "text": [
      "105\n",
      "120\n",
      "210\n",
      "181\n",
      "197\n",
      "207\n",
      "128\n",
      "357\n",
      "253\n"
     ]
    }
   ],
   "source": [
    "for chunk in chunks:\n",
    "    print(len(chunk))"
   ]
  },
  {
   "cell_type": "markdown",
   "metadata": {},
   "source": [
    "As you can see, all though we gave 200 as a chunk size since the split was based on \\n, it ended up creating chunks that are bigger than size 200.\n",
    "\n",
    "Another class from Langchain can be used to recursively split the text based on a list of separators. This class is RecursiveTextSplitter. Let's see how it works\n",
    "\n",
    "**RecursiveTextSplitter**"
   ]
  },
  {
   "cell_type": "code",
   "execution_count": 16,
   "metadata": {},
   "outputs": [
    {
     "data": {
      "text/plain": [
       "'Interstellar is a 2014 epic science fiction film co-written, directed, and produced by Christopher Nolan. \\nIt stars Matthew McConaughey, Anne Hathaway, Jessica Chastain, Bill Irwin, Ellen Burstyn, Matt Damon, and Michael Caine. \\nSet in a dystopian future where humanity is embroiled in a catastrophic blight and famine, the film follows a group of astronauts who travel through a wormhole near Saturn in search of a new home for humankind.\\n\\nBrothers Christopher and Jonathan Nolan wrote the screenplay, which had its origins in a script Jonathan developed in 2007 and was originally set to be directed by Steven Spielberg. \\nKip Thorne, a Caltech theoretical physicist and 2017 Nobel laureate in Physics,[4] was an executive producer, acted as a scientific consultant, and wrote a tie-in book, The Science of Interstellar. \\nCinematographer Hoyte van Hoytema shot it on 35 mm movie film in the Panavision anamorphic format and IMAX 70 mm. Principal photography began in late 2013 and took place in Alberta, Iceland, and Los Angeles. \\nInterstellar uses extensive practical and miniature effects, and the company Double Negative created additional digital effects.\\n\\nInterstellar premiered in Los Angeles on October 26, 2014. In the United States, it was first released on film stock, expanding to venues using digital projectors. The film received generally positive reviews from critics and grossed over $677 million worldwide ($715 million after subsequent re-releases), making it the tenth-highest-grossing film of 2014. \\nIt has been praised by astronomers for its scientific accuracy and portrayal of theoretical astrophysics.[5][6][7] Interstellar was nominated for five awards at the 87th Academy Awards, winning Best Visual Effects, and received numerous other accolades.'"
      ]
     },
     "execution_count": 16,
     "metadata": {},
     "output_type": "execute_result"
    }
   ],
   "source": [
    "text"
   ]
  },
  {
   "cell_type": "code",
   "execution_count": 17,
   "metadata": {},
   "outputs": [],
   "source": [
    "from langchain.text_splitter import RecursiveCharacterTextSplitter\n",
    "\n",
    "r_splitter = RecursiveCharacterTextSplitter(\n",
    "    separators = [\"\\n\\n\", \"\\n\", \" \"],  # List of separators based on requirement (defaults to [\"\\n\\n\", \"\\n\", \" \"])\n",
    "    chunk_size = 200,  # size of each chunk created\n",
    "    chunk_overlap  = 0,  # size of  overlap between chunks in order to maintain the context\n",
    "    length_function = len  # Function to calculate size, currently we are using \"len\" which denotes length of string however you can pass any token counter)\n",
    ")"
   ]
  },
  {
   "cell_type": "code",
   "execution_count": 18,
   "metadata": {},
   "outputs": [
    {
     "name": "stdout",
     "output_type": "stream",
     "text": [
      "105\n",
      "120\n",
      "199\n",
      "10\n",
      "181\n",
      "197\n",
      "198\n",
      "8\n",
      "128\n",
      "191\n",
      "165\n",
      "198\n",
      "54\n"
     ]
    }
   ],
   "source": [
    "chunks = r_splitter.split_text(text)\n",
    "\n",
    "for chunk in chunks:\n",
    "    print(len(chunk))"
   ]
  },
  {
   "cell_type": "markdown",
   "metadata": {},
   "source": [
    "Recursive text splitter uses a list of separators, i.e. separators = [\"\\n\\n\", \"\\n\", \".\"]\n",
    "\n",
    "So now it will first split using \\n\\n and then if the resulting chunk size is greater than the chunk_size parameter which is 200 in our case, then it will use the next separator which is \\n"
   ]
  },
  {
   "cell_type": "code",
   "execution_count": 20,
   "metadata": {},
   "outputs": [
    {
     "data": {
      "text/plain": [
       "'Interstellar is a 2014 epic science fiction film co-written, directed, and produced by Christopher Nolan. \\nIt stars Matthew McConaughey, Anne Hathaway, Jessica Chastain, Bill Irwin, Ellen Burstyn, Matt Damon, and Michael Caine. \\nSet in a dystopian future where humanity is embroiled in a catastrophic blight and famine, the film follows a group of astronauts who travel through a wormhole near Saturn in search of a new home for humankind.'"
      ]
     },
     "execution_count": 20,
     "metadata": {},
     "output_type": "execute_result"
    }
   ],
   "source": [
    "first_split = text.split(\"\\n\\n\")[0]\n",
    "first_split"
   ]
  },
  {
   "cell_type": "code",
   "execution_count": 21,
   "metadata": {},
   "outputs": [
    {
     "data": {
      "text/plain": [
       "439"
      ]
     },
     "execution_count": 21,
     "metadata": {},
     "output_type": "execute_result"
    }
   ],
   "source": [
    "len(first_split)"
   ]
  },
  {
   "cell_type": "code",
   "execution_count": 23,
   "metadata": {},
   "outputs": [
    {
     "data": {
      "text/plain": [
       "['Interstellar is a 2014 epic science fiction film co-written, directed, and produced by Christopher Nolan. ',\n",
       " 'It stars Matthew McConaughey, Anne Hathaway, Jessica Chastain, Bill Irwin, Ellen Burstyn, Matt Damon, and Michael Caine. ',\n",
       " 'Set in a dystopian future where humanity is embroiled in a catastrophic blight and famine, the film follows a group of astronauts who travel through a wormhole near Saturn in search of a new home for humankind.']"
      ]
     },
     "execution_count": 23,
     "metadata": {},
     "output_type": "execute_result"
    }
   ],
   "source": [
    "second_split = first_split.split(\"\\n\")\n",
    "second_split"
   ]
  },
  {
   "cell_type": "code",
   "execution_count": 24,
   "metadata": {},
   "outputs": [
    {
     "name": "stdout",
     "output_type": "stream",
     "text": [
      "106\n",
      "121\n",
      "210\n"
     ]
    }
   ],
   "source": [
    "for split in second_split:\n",
    "    print(len(split))"
   ]
  },
  {
   "cell_type": "markdown",
   "metadata": {},
   "source": [
    "When you split this using space (i.e. second_split[2].split(\" \")), it will separate out each word and then it will merge those chunks such that their size is close to 200\n",
    "\n"
   ]
  }
 ],
 "metadata": {
  "kernelspec": {
   "display_name": "research",
   "language": "python",
   "name": "python3"
  },
  "language_info": {
   "codemirror_mode": {
    "name": "ipython",
    "version": 3
   },
   "file_extension": ".py",
   "mimetype": "text/x-python",
   "name": "python",
   "nbconvert_exporter": "python",
   "pygments_lexer": "ipython3",
   "version": "3.10.16"
  }
 },
 "nbformat": 4,
 "nbformat_minor": 2
}
